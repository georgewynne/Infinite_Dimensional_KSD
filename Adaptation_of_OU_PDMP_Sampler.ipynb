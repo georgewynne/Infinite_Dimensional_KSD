{
 "cells": [
  {
   "cell_type": "markdown",
   "metadata": {},
   "source": [
    "# PDMP sampling of conditioned diffusions"
   ]
  },
  {
   "cell_type": "markdown",
   "metadata": {},
   "source": [
    "This notebook is a simple adaptation of the ou.jl file from https://github.com/SebaGraz/ZZDiffusionBridge/tree/master/scripts/examples \n",
    "\n",
    "It is to be ran in the same location as ou.jl within the above repository\n",
    "\n",
    "The viewer is encouraged to look at https://github.com/mschauer/ZigZagBoomerang.jl for further content on using PDMP samplers for function space sampling. "
   ]
  },
  {
   "cell_type": "code",
   "execution_count": 1,
   "metadata": {},
   "outputs": [
    {
     "name": "stderr",
     "output_type": "stream",
     "text": [
      "\u001b[32m\u001b[1m    Updating\u001b[22m\u001b[39m registry at `~/.julia/registries/General`\n",
      "\u001b[32m\u001b[1m    Updating\u001b[22m\u001b[39m git-repo `https://github.com/JuliaRegistries/General.git`\n",
      "\u001b[32m\u001b[1m   Resolving\u001b[22m\u001b[39m package versions...\n",
      "\u001b[32m\u001b[1m  No Changes\u001b[22m\u001b[39m to `~/.julia/environments/v1.6/Project.toml`\n",
      "\u001b[32m\u001b[1m  No Changes\u001b[22m\u001b[39m to `~/.julia/environments/v1.6/Manifest.toml`\n",
      "\u001b[32m\u001b[1m   Resolving\u001b[22m\u001b[39m package versions...\n",
      "\u001b[32m\u001b[1m  No Changes\u001b[22m\u001b[39m to `~/.julia/environments/v1.6/Project.toml`\n",
      "\u001b[32m\u001b[1m  No Changes\u001b[22m\u001b[39m to `~/.julia/environments/v1.6/Manifest.toml`\n",
      "\u001b[32m\u001b[1m   Resolving\u001b[22m\u001b[39m package versions...\n",
      "\u001b[32m\u001b[1m  No Changes\u001b[22m\u001b[39m to `~/.julia/environments/v1.6/Project.toml`\n",
      "\u001b[32m\u001b[1m  No Changes\u001b[22m\u001b[39m to `~/.julia/environments/v1.6/Manifest.toml`\n",
      "\u001b[32m\u001b[1m   Resolving\u001b[22m\u001b[39m package versions...\n",
      "\u001b[32m\u001b[1m  No Changes\u001b[22m\u001b[39m to `~/.julia/environments/v1.6/Project.toml`\n",
      "\u001b[32m\u001b[1m  No Changes\u001b[22m\u001b[39m to `~/.julia/environments/v1.6/Manifest.toml`\n"
     ]
    }
   ],
   "source": [
    "using Pkg;\n",
    "Pkg.add(\"Tables\")\n",
    "Pkg.add(\"ProgressMeter\")\n",
    "Pkg.add(\"CSV\")\n",
    "Pkg.add(\"NPZ\")"
   ]
  },
  {
   "cell_type": "code",
   "execution_count": 2,
   "metadata": {},
   "outputs": [
    {
     "data": {
      "text/plain": [
       "sampling_scheme (generic function with 1 method)"
      ]
     },
     "execution_count": 2,
     "metadata": {},
     "output_type": "execute_result"
    }
   ],
   "source": [
    "include(\"../../src/ZZDiffusionBridge.jl\")\n",
    "using LinearAlgebra\n",
    "\"\"\"\n",
    "    OUSDE <: AbstractModel\n",
    "\n",
    "dX_t = ν(μ - X_t)dt + dB_t\n",
    "ν := intensity\n",
    "μ := mean reversion\n",
    "M::Array{Float64, 2} := matrix whose element i,j is equal to ∫_0^T ϕ_i ϕ_j dt\n",
    "V::Vector{Float64} :=  vector whose element i is equal to ∫_0^T ϕ_i dt\n",
    "bound1::Vector{Float64} :=  vector whose element i is equal to ∫_0^T upbar{ϕ}_i ϕ_j dt\n",
    "bound2::Vector{Float64} :=  vector whose element i is equal to ∫_0^T downbar{ϕ}_i ϕ_j dt\n",
    "\"\"\"\n",
    "\n",
    "struct OUSDE <: AbstractModel\n",
    "    μ::Float64\n",
    "    ν::Float64\n",
    "    M::Array{Float64, 2}\n",
    "    V::Vector{Float64}\n",
    "    bound1::Vector{Float64}\n",
    "    bound2::Vector{Float64}\n",
    "    function OUSDE(μ, ν, L, T)\n",
    "        new(μ, ν, generate_matrix(L, T), generate_vector(L, T), generate_bound1(L,T), generate_bound2(L,T))\n",
    "    end\n",
    "end\n",
    "\n",
    "dependence_strucute(::OUSDE) = PartialIndependence()\n",
    "sampling_scheme(::OUSDE) = Regular()"
   ]
  },
  {
   "cell_type": "code",
   "execution_count": 3,
   "metadata": {},
   "outputs": [
    {
     "data": {
      "text/plain": [
       "λbar"
      ]
     },
     "execution_count": 3,
     "metadata": {},
     "output_type": "execute_result"
    }
   ],
   "source": [
    "#Poisson rates\n",
    "\"\"\"\n",
    "    wait_gengaus(a,b,u)\n",
    "obtaining waiting time for Inhomogeneous Poisson Process\n",
    "with rate of the form λ(t) = (a + b*t)^+, `a`,`b` ∈ R, `u` random variable\n",
    "\"\"\"\n",
    "function wait_gengaus(a,b,u)\n",
    "    if b > 0\n",
    "        if a < 0\n",
    "            τ = sqrt(-log(u)*2.0/b) - a/b\n",
    "        else #a[i]>0\n",
    "            τ = sqrt((a/b)^2 - log(u)*2.0/b) - a/b\n",
    "        end\n",
    "    elseif  b == 0\n",
    "        if a > 0\n",
    "            τ = -log(u)/a\n",
    "        else #a[i] <= 0\n",
    "            τ = Inf\n",
    "        end\n",
    "    else #b[i] < 0\n",
    "        if a <= 0\n",
    "            τ = Inf\n",
    "        elseif -log(u) <= -a^2/b + a^2/(2*b)\n",
    "            τ = - sqrt((a/b)^2 - log(u)*2.0/b) - a/b\n",
    "        else\n",
    "            τ = Inf\n",
    "        end\n",
    "    end\n",
    "end\n",
    "\n",
    "\"\"\"\n",
    "    λbar(n, S::System, X::OUSDE , u, v)\n",
    "\n",
    "Poisson time (real bound) for the coefficient `n`\n",
    "of model `OUSDE` starting at `u` and ending at `v`\n",
    "\n",
    "λbar = λ No upper bound and no accept reject step\n",
    "\"\"\"\n",
    "function λbar(n, S::System, X::OUSDE , u::Float64, v::Float64, t::Float64)\n",
    "    a = S.θ[n]*(X.ν*X.ν*(dot(X.M[n,:], S.ξ) + X.bound1[n]*v + X.bound2[n]*u - X.μ*X.V[n]) + S.ξ[n])\n",
    "    b = S.θ[n]*((dot(X.M[:,n], S.θ))*X.ν*X.ν + S.θ[n])\n",
    "    return wait_gengaus(a, b, rand())\n",
    "end\n"
   ]
  },
  {
   "cell_type": "code",
   "execution_count": 4,
   "metadata": {},
   "outputs": [
    {
     "data": {
      "text/plain": [
       "run_PDMP (generic function with 8 methods)"
      ]
     },
     "execution_count": 4,
     "metadata": {},
     "output_type": "execute_result"
    }
   ],
   "source": [
    "function run_PDMP(alpha::Float64 = 0.7,T::Float64 = 50.0, clock::Float64 = 10000.0, L::Int64 = 6,u::Float64 = - Float64(π),v::Float64 = 3*Float64(π),prog_bar::Bool = false)\n",
    "    X = SinSDE(alpha, L, T)\n",
    "    XX = zz_sampler(X, T, L, u, v, clock,prog_bar)\n",
    "    return XX\n",
    "end"
   ]
  },
  {
   "cell_type": "code",
   "execution_count": 5,
   "metadata": {},
   "outputs": [
    {
     "data": {
      "text/plain": [
       "runall (generic function with 2 methods)"
      ]
     },
     "execution_count": 5,
     "metadata": {},
     "output_type": "execute_result"
    }
   ],
   "source": [
    "function runall(SHORT = false)\n",
    "    Random.seed!(1)\n",
    "    T = 10.0\n",
    "    clock = 1000.0\n",
    "    L = 6\n",
    "    ν = 1.0\n",
    "    μ = -5\n",
    "    u = -1.0\n",
    "    v = 2.0\n",
    "    X = OUSDE(μ, ν, L, T)\n",
    "    XX = zz_sampler(X, T, L, u, v, clock)\n",
    "    if SHORT == false\n",
    "        burning = 10.0    #burning\n",
    "        f = clock - 1.0; n = 100\n",
    "        db = (f-burning)/n\n",
    "        b =  burning:db:f\n",
    "        p = plotmixing(XX, b, T, L, u, v)\n",
    "        hline!(p, [-5.0], color = :blue)\n",
    "        xaxis!(p, \"t\")\n",
    "        yaxis!(p, \"X_t\")\n",
    "        display(p)\n",
    "        #plot the mean of the process\n",
    "    end\n",
    "    return XX\n",
    "end"
   ]
  },
  {
   "cell_type": "code",
   "execution_count": 6,
   "metadata": {},
   "outputs": [
    {
     "data": {
      "text/plain": [
       "run_OU_PDMP (generic function with 9 methods)"
      ]
     },
     "execution_count": 6,
     "metadata": {},
     "output_type": "execute_result"
    }
   ],
   "source": [
    "function run_OU_PDMP(ν::Float64 = 1.0,μ::Float64 = -5.0,T::Float64 = 10.0, clock::Float64 = 1000.0, L::Int64 = 6,u::Float64 = -1.0,v::Float64 = 2.0,prog_bar::Bool = false)\n",
    "    X = OUSDE(μ, ν, L, T)\n",
    "    XX = zz_sampler(X, T, L, u, v, clock,prog_bar)\n",
    "    return XX\n",
    "end"
   ]
  },
  {
   "cell_type": "code",
   "execution_count": 7,
   "metadata": {},
   "outputs": [
    {
     "data": {
      "text/plain": [
       "extract_values (generic function with 2 methods)"
      ]
     },
     "execution_count": 7,
     "metadata": {},
     "output_type": "execute_result"
    }
   ],
   "source": [
    "function extract_values(y::Array{Skeleton,1},b,L::Int64,T::Float64, u::Float64, v::Float64, trasform = x -> x)\n",
    "    P = []\n",
    "    \n",
    "#     @showprogress for i in b\n",
    "    for i in b\n",
    "        ξ_interp = FindCoordinates(y, i).ξ\n",
    "        dx = fs_expansion(ξ_interp, u, v, L, T)\n",
    "        push!(P, trasform.(dx))\n",
    "#         print(\"Extracting sample $(i) \\r\")\n",
    "#         flush(stdout)\n",
    "    end\n",
    "    return P\n",
    "end"
   ]
  },
  {
   "cell_type": "code",
   "execution_count": 11,
   "metadata": {},
   "outputs": [],
   "source": [
    "# Interval length for the functions\n",
    "T = 4.0\n",
    "# Final clock time for the sampler\n",
    "clock = 20_000.0\n",
    "# Dictates number of basis elements to use in sampler\n",
    "L = 6\n",
    "# Parameter in the SDE\n",
    "ν = 1.0\n",
    "μ = -5.0\n",
    "# Start and end points of the diffusion\n",
    "u = -1.0\n",
    "v = 2.0\n",
    "# burn in period\n",
    "burning = clock/10.0\n",
    "# Reduce clock size by one to avoid overflow issues\n",
    "f = clock - 1.0\n",
    "# Number of samples to extract\n",
    "n = 10_000\n",
    "# Form extraction grid\n",
    "db = (f-burning)/n\n",
    "b =  burning:db:f\n",
    "# Form sample path discretisation grid\n",
    "dt = range(0.0, stop=T, length=2<<(L) + 1);"
   ]
  },
  {
   "cell_type": "code",
   "execution_count": 12,
   "metadata": {
    "scrolled": true
   },
   "outputs": [
    {
     "name": "stderr",
     "output_type": "stream",
     "text": [
      "\u001b[32mProgress: 100%|█████████████████████████████████████████| Time: 0:00:12\u001b[39m\n"
     ]
    }
   ],
   "source": [
    "prog_bar = true\n",
    "# Run the sampler\n",
    "E = run_OU_PDMP(ν,μ,T,clock,L,u,v,prog_bar)\n",
    "# Extract the samples\n",
    "R = extract_values(E,b,L,T,u,v)\n",
    "# Wrangle output into form that can be stored, the 2<<(L)+1 is due\n",
    "# to how many points the sampled functions are evaluated at. It is due\n",
    "# to the choice of basis in the sampler.\n",
    "S = reshape(collect(Iterators.flatten(R)),(2<<(L)+1,n + 1));"
   ]
  },
  {
   "cell_type": "code",
   "execution_count": 10,
   "metadata": {},
   "outputs": [],
   "source": [
    "using NPZ\n",
    "npzwrite(\"OU_paths/OU_PDMP_Sample_Quality_Data_T_4.npy\", S)"
   ]
  }
 ],
 "metadata": {
  "kernelspec": {
   "display_name": "Julia 1.6.2",
   "language": "julia",
   "name": "julia-1.6"
  },
  "language_info": {
   "file_extension": ".jl",
   "mimetype": "application/julia",
   "name": "julia",
   "version": "1.6.2"
  }
 },
 "nbformat": 4,
 "nbformat_minor": 2
}
