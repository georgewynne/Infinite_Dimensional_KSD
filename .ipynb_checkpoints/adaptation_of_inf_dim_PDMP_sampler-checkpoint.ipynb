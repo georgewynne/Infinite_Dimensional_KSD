{
 "cells": [
  {
   "cell_type": "markdown",
   "metadata": {},
   "source": [
    "# PDMP sampling of conditioned diffusions"
   ]
  },
  {
   "cell_type": "markdown",
   "metadata": {},
   "source": [
    "This notebook is a simple adaptation of the sin.jl file from https://github.com/SebaGraz/ZZDiffusionBridge/tree/master/scripts/examples which uses the sampler described in \"A piecewise deterministic Monte Carlo method for diffusion bridges\" by Bierkins et al 2021 \n",
    "\n",
    "It is to be ran in the same location as sin.jl within the above repository\n",
    "\n",
    "We also encourage the viewer to look at https://github.com/mschauer/ZigZagBoomerang.jl for further content on using PDMP samplers for function space sampling. \n",
    "\n",
    "Samples are produced from the PDMP sampler and then saved to csv to be read in the python notebook.\n",
    "\n",
    "With the current settings each run of the sampler produces 2500 samples. \n",
    "\n",
    "We ran it four time to have 10,000 samples, enough to perform 100 tests with 100 samples each when investigating test performance.\n",
    "\n",
    "Each run is saved to a CSV which we then combined into a Python numpy array and used in the other notebook\n"
   ]
  },
  {
   "cell_type": "code",
   "execution_count": 1,
   "metadata": {},
   "outputs": [
    {
     "name": "stderr",
     "output_type": "stream",
     "text": [
      "\u001b[32m\u001b[1m    Updating\u001b[22m\u001b[39m registry at `~/.julia/registries/General`\n",
      "\u001b[32m\u001b[1m    Updating\u001b[22m\u001b[39m git-repo `https://github.com/JuliaRegistries/General.git`\n",
      "\u001b[32m\u001b[1m   Resolving\u001b[22m\u001b[39m package versions...\n",
      "\u001b[32m\u001b[1m  No Changes\u001b[22m\u001b[39m to `~/.julia/environments/v1.6/Project.toml`\n",
      "\u001b[32m\u001b[1m  No Changes\u001b[22m\u001b[39m to `~/.julia/environments/v1.6/Manifest.toml`\n",
      "\u001b[32m\u001b[1m   Resolving\u001b[22m\u001b[39m package versions...\n",
      "\u001b[32m\u001b[1m  No Changes\u001b[22m\u001b[39m to `~/.julia/environments/v1.6/Project.toml`\n",
      "\u001b[32m\u001b[1m  No Changes\u001b[22m\u001b[39m to `~/.julia/environments/v1.6/Manifest.toml`\n",
      "\u001b[32m\u001b[1m   Resolving\u001b[22m\u001b[39m package versions...\n",
      "\u001b[32m\u001b[1m  No Changes\u001b[22m\u001b[39m to `~/.julia/environments/v1.6/Project.toml`\n",
      "\u001b[32m\u001b[1m  No Changes\u001b[22m\u001b[39m to `~/.julia/environments/v1.6/Manifest.toml`\n"
     ]
    }
   ],
   "source": [
    "using Pkg;\n",
    "Pkg.add(\"Tables\")\n",
    "Pkg.add(\"ProgressMeter\")\n",
    "Pkg.add(\"CSV\")"
   ]
  },
  {
   "cell_type": "code",
   "execution_count": 2,
   "metadata": {},
   "outputs": [
    {
     "data": {
      "text/plain": [
       "sampling_scheme (generic function with 1 method)"
      ]
     },
     "execution_count": 2,
     "metadata": {},
     "output_type": "execute_result"
    }
   ],
   "source": [
    "include(\"../../src/ZZDiffusionBridge.jl\")\n",
    "\n",
    "\"\"\"\n",
    "    SinSDE <: AbstractModel\n",
    "\n",
    "dX_t = α sin(X_t) + dB_t\n",
    "α := attraction intensity\n",
    "\"\"\"\n",
    "struct SinSDE <: AbstractModel\n",
    "    α::Float64\n",
    "    V::Vector{Float64}\n",
    "    # optional precompiled factors\n",
    "    function SinSDE(α, L, T)\n",
    "        new(α, generate_vector(L, T))\n",
    "    end\n",
    "end\n",
    "\n",
    "\n",
    "# dependence structure for each stochastic differential equation\n",
    "dependence_strucute(::SinSDE) = FullIndependence()\n",
    "# sampling scheme for each stochastic differential equation\n",
    "sampling_scheme(::SinSDE) = SubSampling()"
   ]
  },
  {
   "cell_type": "code",
   "execution_count": 3,
   "metadata": {},
   "outputs": [
    {
     "data": {
      "text/plain": [
       "λratio"
      ]
     },
     "execution_count": 3,
     "metadata": {},
     "output_type": "execute_result"
    }
   ],
   "source": [
    "\"\"\"\n",
    "        λbar(n, S::System, X::SinSDE, u, v)\n",
    "\n",
    "Poisson time (upper bound) for the coefficient `n`\n",
    "of model `SinSDE` starting at `u` and ending at `v`\n",
    "\n",
    "invert function Λ(t) = at + int_0^t max(0, b+cs) ds + ln(ran)\n",
    "with a = |θ|*δ,   b = ξ*θ, c = θ^2\n",
    "\"\"\"\n",
    "function λbar(n, S::System, X::SinSDE, u, v, t::Float64)\n",
    "    ran = rand()\n",
    "    δ = S.ϕ[n].δ*(X.α*X.α + X.α)*0.5\n",
    "    b = S.ξ[n]*S.θ[n]\n",
    "    if b>0\n",
    "        return Sol2E(S.θ[n]*S.θ[n]*0.5, b + δ*abs(S.θ[n]), log(ran))\n",
    "    elseif S.ξ[n]*sign(S.θ[n])*δ <= log(ran) #Case 2: 0 < t < -b/c\n",
    "        return -log(ran)/(abs(S.θ[n])*δ)\n",
    "    else    #Case 2: 0 < -b/c < t\n",
    "        return Sol2E(S.θ[n]*S.θ[n]*0.5, b + δ*abs(S.θ[n]), log(ran)+ S.ξ[n]*S.ξ[n]*0.5)\n",
    "    end\n",
    "end\n",
    "\n",
    "\n",
    "\n",
    "\"\"\"\n",
    "    λratio(n::Int64, S::System, X::SinSDE, u::Float64, v::Float64)\n",
    "\n",
    "accept reject time drwan from upper bound λbar relative to the coefficient `n`\n",
    "of model `SinSDE` starting at `u` and ending at `v`\n",
    "\"\"\"\n",
    "function λratio(n::Int64, S::System, X::SinSDE, u::Float64, v::Float64, t::Float64)\n",
    "    δ = S.ϕ[n].δ*(X.α*X.α + X.α)*0.5 #always the same, we could save the value\n",
    "    t = MCintegration(S.ϕ[n])\n",
    "    XX = fs_expansion(S, t, u, v)\n",
    "    λ = Λ(t, S.ϕ[n].i, S.ϕ[n].j, S.T)\n",
    "    acc_rej =  max(0, S.θ[n]*(0.5*S.ϕ[n].range*λ*(X.α*X.α*sin(2.0*(XX)) - X.α*sin(XX)) + S.ξ[n]))/(abs(S.θ[n])*δ + max(0, S.θ[n]*S.ξ[n]))\n",
    "    # if !(0.0<=acc_rej<=1.0) #DEBUG\n",
    "    #     println(\"ratio is :\", acc_rej)\n",
    "    #     error(\"Ratio outside boundaries\")\n",
    "    # end\n",
    "    return acc_rej\n",
    "end\n",
    "\n"
   ]
  },
  {
   "cell_type": "code",
   "execution_count": 4,
   "metadata": {},
   "outputs": [
    {
     "data": {
      "text/plain": [
       "run_PDMP (generic function with 8 methods)"
      ]
     },
     "execution_count": 4,
     "metadata": {},
     "output_type": "execute_result"
    }
   ],
   "source": [
    "function run_PDMP(alpha::Float64 = 0.7,T::Float64 = 50.0, clock::Float64 = 10000.0, L::Int64 = 6,u::Float64 = - Float64(π),v::Float64 = 3*Float64(π),prog_bar::Bool = false)\n",
    "    X = SinSDE(alpha, L, T)\n",
    "    XX = zz_sampler(X, T, L, u, v, clock,prog_bar)\n",
    "    return XX\n",
    "end"
   ]
  },
  {
   "cell_type": "code",
   "execution_count": 5,
   "metadata": {},
   "outputs": [
    {
     "data": {
      "text/plain": [
       "extract_values (generic function with 2 methods)"
      ]
     },
     "execution_count": 5,
     "metadata": {},
     "output_type": "execute_result"
    }
   ],
   "source": [
    "function extract_values(y::Array{Skeleton,1},b,L::Int64,T::Float64, u::Float64, v::Float64, trasform = x -> x)\n",
    "    P = []\n",
    "    \n",
    "#     @showprogress for i in b\n",
    "    for i in b\n",
    "        ξ_interp = FindCoordinates(y, i).ξ\n",
    "        dx = fs_expansion(ξ_interp, u, v, L, T)\n",
    "        push!(P, trasform.(dx))\n",
    "#         print(\"Extracting sample $(i) \\r\")\n",
    "#         flush(stdout)\n",
    "    end\n",
    "    return P\n",
    "end"
   ]
  },
  {
   "cell_type": "code",
   "execution_count": 23,
   "metadata": {},
   "outputs": [],
   "source": [
    "# Interval length for the functions\n",
    "T = 50.0\n",
    "# Final clock time for the sampler\n",
    "clock = 125000.0\n",
    "# Dictates number of basis elements to use in sampler\n",
    "L = 6\n",
    "# Parameter in the SDE\n",
    "alpha = 0.7\n",
    "# Start and end points of the diffusion\n",
    "u = 0.0\n",
    "v = 0.0\n",
    "# burn in period\n",
    "burning = 10.0\n",
    "# Parameters to extract the samples from the simulations\n",
    "# n is number of samples to extract\n",
    "f = clock - 1.0\n",
    "n = 2000\n",
    "db = (f-burning)/n\n",
    "b =  burning:db:f\n",
    "dt = range(0.0, stop=T, length=2<<(L) + 1);"
   ]
  },
  {
   "cell_type": "code",
   "execution_count": 24,
   "metadata": {
    "scrolled": true
   },
   "outputs": [
    {
     "name": "stderr",
     "output_type": "stream",
     "text": [
      "\u001b[32mProgress: 100%|█████████████████████████████████████████| Time: 0:59:06\u001b[39m\n"
     ]
    }
   ],
   "source": [
    "prog_bar = true\n",
    "# Run the sampler\n",
    "E = run_PDMP(alpha,T,clock,L,u,v,prog_bar)\n",
    "# Extract the samples\n",
    "R = extract_values(E,b,L,T,u,v)\n",
    "# Wrangle output into form that can be stored, the 2<<(L)+1 is due\n",
    "# to how many points the sampled functions are evaluated at. It is due\n",
    "# to the choice of basis in the sampler.\n",
    "S = reshape(collect(Iterators.flatten(R)),(2<<(L)+1,n + 1))\n",
    "# Write output into a csv\n",
    "using Tables\n",
    "using CSV\n",
    "CSV.write(\"1st_batch_T_50_sin_paths_n_2500_clock_125000.csv\",  Tables.table(S), writeheader=false);"
   ]
  },
  {
   "cell_type": "code",
   "execution_count": null,
   "metadata": {},
   "outputs": [],
   "source": []
  }
 ],
 "metadata": {
  "kernelspec": {
   "display_name": "Julia 1.6.2",
   "language": "julia",
   "name": "julia-1.6"
  },
  "language_info": {
   "file_extension": ".jl",
   "mimetype": "application/julia",
   "name": "julia",
   "version": "1.6.2"
  }
 },
 "nbformat": 4,
 "nbformat_minor": 2
}
